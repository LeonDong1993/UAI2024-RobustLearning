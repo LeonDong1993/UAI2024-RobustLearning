{
 "cells": [
  {
   "cell_type": "code",
   "execution_count": 1,
   "id": "4ca2edb6",
   "metadata": {
    "execution": {
     "iopub.execute_input": "2024-02-04T05:04:51.656440Z",
     "iopub.status.busy": "2024-02-04T05:04:51.655324Z",
     "iopub.status.idle": "2024-02-04T05:04:53.309893Z",
     "shell.execute_reply": "2024-02-04T05:04:53.309216Z",
     "shell.execute_reply.started": "2024-02-04T05:04:51.656383Z"
    }
   },
   "outputs": [],
   "source": [
    "%matplotlib inline\n",
    "import sys, os, pdb, warnings, torch, time\n",
    "sys.path.insert(0, './core/')\n",
    "\n",
    "import numpy as np\n",
    "import pandas as pd\n",
    "import matplotlib.pyplot as plt\n",
    "from functools import partial\n",
    "from itertools import product\n",
    "from copy import deepcopy\n",
    "from torch.utils.data import DataLoader, Dataset\n",
    "\n",
    "from minilib import *\n",
    "from utmLib import utils\n",
    "from utmLib.clses import Logger\n",
    "\n",
    "np.set_printoptions(suppress=True, linewidth=120, precision=4)\n",
    "pd.set_option('display.max_columns', 15)\n",
    "pd.set_option('display.width', 1000)\n",
    "plt.rcParams[\"figure.figsize\"] = [10,2]\n",
    "\n",
    "# this is mainly for papermill parameter detection\n",
    "try:\n",
    "    dummy_x89757 = data_name\n",
    "except:\n",
    "    data_name = 'parkinson'\n",
    "    log_file = 'results/exp.log'\n",
    "    G_delta = 0.5\n",
    "    testing = 0\n",
    "\n",
    "logger = Logger(log_file)\n",
    "res_log = Logger(log_file + '.res', with_time = False)\n"
   ]
  },
  {
   "cell_type": "markdown",
   "id": "9e5f35cd-de6f-498d-a7f3-156310f92f92",
   "metadata": {},
   "source": [
    "# Utility functions "
   ]
  },
  {
   "cell_type": "code",
   "execution_count": 2,
   "id": "da4bfd6a",
   "metadata": {
    "execution": {
     "iopub.execute_input": "2024-02-04T05:04:53.311532Z",
     "iopub.status.busy": "2024-02-04T05:04:53.311096Z",
     "iopub.status.idle": "2024-02-04T05:04:53.318222Z",
     "shell.execute_reply": "2024-02-04T05:04:53.317407Z",
     "shell.execute_reply.started": "2024-02-04T05:04:53.311512Z"
    }
   },
   "outputs": [],
   "source": [
    "def visualize_imgs(img_array, rows = 2, cols = 8, selected = None, label_array = None):\n",
    "    if img_array[0].size == 196:\n",
    "        process = lambda x:x.reshape(14,14)\n",
    "    else:\n",
    "        process = lambda x:x.reshape(28,28)\n",
    "    \n",
    "    # random select some examples for display if not specified\n",
    "    if selected is None:\n",
    "        assert(img_array.shape[0] >= rows * cols)\n",
    "        selected = np.random.choice(img_array.shape[0], rows * cols, replace = False)\n",
    "    else:\n",
    "        assert(selected.size >= rows * cols)\n",
    "    \n",
    "    k = 1\n",
    "    labels = []\n",
    "    fid = plt.figure()\n",
    "    \n",
    "    for i in range(rows):\n",
    "        for j in range(cols):\n",
    "            plt.subplot(rows, cols, k)\n",
    "            plt.imshow(process(img_array[selected[k-1]]), cmap='gray' )\n",
    "            if label_array is not None:\n",
    "                labels.append(label_array[selected[k-1]])\n",
    "            k += 1\n",
    "            plt.axis('off')\n",
    "    \n",
    "    if len(labels):\n",
    "        print(labels)\n",
    "    plt.show()"
   ]
  },
  {
   "cell_type": "code",
   "execution_count": 3,
   "id": "30b70dd3",
   "metadata": {
    "execution": {
     "iopub.execute_input": "2024-02-04T05:04:53.319273Z",
     "iopub.status.busy": "2024-02-04T05:04:53.319058Z",
     "iopub.status.idle": "2024-02-04T05:04:53.404913Z",
     "shell.execute_reply": "2024-02-04T05:04:53.403380Z",
     "shell.execute_reply.started": "2024-02-04T05:04:53.319253Z"
    }
   },
   "outputs": [],
   "source": [
    "def adversial_step(masses, delta = 0.5):\n",
    "    \n",
    "    def get_w(alpha):\n",
    "        # w = np.exp( -masses / alpha )\n",
    "        # w = w / np.sum(w) * N\n",
    "        # return w\n",
    "        vec = -masses / alpha\n",
    "        vec -= max(vec)\n",
    "        w = np.exp(vec)\n",
    "        w = w/w.sum()\n",
    "        w *= N\n",
    "        return w\n",
    "        \n",
    "    \n",
    "    def valid(alpha):\n",
    "        w = get_w(alpha)\n",
    "        return np.log(np.power(w,w)).sum() <= M\n",
    "    \n",
    "    # use the idea of binary search, time complexity O(N * lgN)\n",
    "    N = masses.size\n",
    "    M = N * delta\n",
    "    l = 0.1\n",
    "    r = 2 ** 10\n",
    "    \n",
    "    # need to gurantee that r is big enough \n",
    "    while not valid(r):\n",
    "        r = r * 2\n",
    "    \n",
    "    # binary search a valid alpha in range [l,r] \n",
    "    while r - l > 1e-2:\n",
    "        m = (l+r) / 2\n",
    "\n",
    "        if valid(m):\n",
    "            r = m \n",
    "        else:\n",
    "            l = m\n",
    "            \n",
    "    return get_w(r)\n"
   ]
  },
  {
   "cell_type": "code",
   "execution_count": 4,
   "id": "8e1e5925",
   "metadata": {
    "execution": {
     "iopub.execute_input": "2024-02-04T05:04:53.409432Z",
     "iopub.status.busy": "2024-02-04T05:04:53.408889Z",
     "iopub.status.idle": "2024-02-04T05:04:53.513588Z",
     "shell.execute_reply": "2024-02-04T05:04:53.512194Z",
     "shell.execute_reply.started": "2024-02-04T05:04:53.409381Z"
    }
   },
   "outputs": [],
   "source": [
    "def fit_weighted_mg(data, R):\n",
    "    # mg allows exact close form solution\n",
    "    N, D = data.shape \n",
    "    mg = MultivariateGaussain()\n",
    "    R = R.reshape(N, 1)\n",
    "    mg.mu = np.mean( R * data, axis = 0)\n",
    "    \n",
    "    mat = data - mg.mu.reshape(1, D)\n",
    "    mat2 = mat.copy()\n",
    "    mat2 = mat2 * R / N\n",
    "    S2 = mat.T @ mat2\n",
    "    \n",
    "    mg.S = S2\n",
    "    return mg\n"
   ]
  },
  {
   "cell_type": "code",
   "execution_count": 5,
   "id": "37fc73ef",
   "metadata": {
    "execution": {
     "iopub.execute_input": "2024-02-04T05:04:53.516072Z",
     "iopub.status.busy": "2024-02-04T05:04:53.515399Z",
     "iopub.status.idle": "2024-02-04T05:04:53.587163Z",
     "shell.execute_reply": "2024-02-04T05:04:53.585549Z",
     "shell.execute_reply.started": "2024-02-04T05:04:53.516019Z"
    }
   },
   "outputs": [],
   "source": [
    "def five_number_statistic(logmass):\n",
    "    p25, median, p75 = np.percentile(logmass, [25,50,75])\n",
    "    average = np.mean(logmass)\n",
    "    std = np.std(logmass)\n",
    "    ret = (p25, median, p75, average, std)\n",
    "    return list(np.round(ret, 4))"
   ]
  },
  {
   "cell_type": "markdown",
   "id": "5bc63103-9269-4d72-a65f-d1cc8b0f4b22",
   "metadata": {
    "jp-MarkdownHeadingCollapsed": true
   },
   "source": [
    "# training and experiment helpers "
   ]
  },
  {
   "cell_type": "code",
   "execution_count": 6,
   "id": "dcf826de-88c4-4ac6-a335-f720d3cbad3d",
   "metadata": {
    "execution": {
     "iopub.execute_input": "2024-02-04T05:04:53.589511Z",
     "iopub.status.busy": "2024-02-04T05:04:53.588966Z",
     "iopub.status.idle": "2024-02-04T05:04:53.688285Z",
     "shell.execute_reply": "2024-02-04T05:04:53.686797Z",
     "shell.execute_reply.started": "2024-02-04T05:04:53.589460Z"
    }
   },
   "outputs": [],
   "source": [
    "def compute_neighbor_ll(model, data, seed = 7, num_nb = 500, eps = 0.2):\n",
    "    '''\n",
    "    compute the worst and average ll for each sample in the data \n",
    "    '''\n",
    "    N, D = data.shape \n",
    "    rng = np.random.RandomState(seed)\n",
    "    \n",
    "    results = [] \n",
    "    for x in data:\n",
    "        pertubation = rng.rand(num_nb, D)\n",
    "        pertubation = (pertubation - 0.5) * 2 * eps\n",
    "        nb_data = x.reshape(1,-1) + pertubation\n",
    "        nb_ll = model.mass(nb_data, logmode = True)\n",
    "\n",
    "        # we only care about the worst and average \n",
    "        results.append([np.min(nb_ll), np.mean(nb_ll)])\n",
    "\n",
    "    min_nb_ll, avg_nb_ll = list(zip(*results))\n",
    "    return min_nb_ll, avg_nb_ll\n",
    "    "
   ]
  },
  {
   "cell_type": "code",
   "execution_count": 7,
   "id": "98e695bf",
   "metadata": {
    "execution": {
     "iopub.execute_input": "2024-02-04T05:04:53.690932Z",
     "iopub.status.busy": "2024-02-04T05:04:53.690226Z",
     "iopub.status.idle": "2024-02-04T05:04:53.816880Z",
     "shell.execute_reply": "2024-02-04T05:04:53.815184Z",
     "shell.execute_reply.started": "2024-02-04T05:04:53.690878Z"
    }
   },
   "outputs": [],
   "source": [
    "import random \n",
    "\n",
    "def evaluate(model, dataset):\n",
    "    avg_stats = []\n",
    "    for name, test_X in zip(['uncorrupted', 'Gaussian-Noise', 'Random-jitter'], dataset.test):\n",
    "        cur_mass = model.mass(test_X, logmode = True)\n",
    "        mass_stat = five_number_statistic(cur_mass)\n",
    "        logger.write('{:<20} p25:{} median:{} p75:{} Mean:{} Std:{}'.format(name, *mass_stat))\n",
    "        avg_stats.append( str(mass_stat[3]) )\n",
    "\n",
    "    for cur_mass, name in zip(compute_neighbor_ll(model, dataset.test[0]),\n",
    "                            ['Worst NB LL','Avg NB LL']):\n",
    "                                \n",
    "        mass_stat = five_number_statistic(cur_mass)\n",
    "        logger.write('{:<20} p25:{} median:{} p75:{} Mean:{} Std:{}'.format(name, *mass_stat))\n",
    "        avg_stats.append( str(mass_stat[3]) )\n",
    "    \n",
    "    res_log.write(','.join(avg_stats), echo = 0)\n",
    "    \n",
    "        "
   ]
  },
  {
   "cell_type": "markdown",
   "id": "5bc4a491",
   "metadata": {
    "jp-MarkdownHeadingCollapsed": true
   },
   "source": [
    "# Experiement of Loglikelihoods"
   ]
  },
  {
   "cell_type": "code",
   "execution_count": 8,
   "id": "ee44f3b4",
   "metadata": {
    "execution": {
     "iopub.execute_input": "2024-02-04T05:04:53.819669Z",
     "iopub.status.busy": "2024-02-04T05:04:53.818903Z",
     "iopub.status.idle": "2024-02-04T05:04:53.943349Z",
     "shell.execute_reply": "2024-02-04T05:04:53.942654Z",
     "shell.execute_reply.started": "2024-02-04T05:04:53.819614Z"
    }
   },
   "outputs": [],
   "source": [
    "# define some common parameters across experiments\n",
    "from utmLib.ml.GBN import GBN\n",
    "from models.ours.Gaussians import MultivariateGaussain\n",
    "from utmLib.clses import MyObject\n",
    "############################################################\n",
    "np.random.seed(7)\n",
    "\n",
    "# Gloable variables\n",
    "G_value_scale = 0.2          # the scale we mess up the test set\n",
    "TRAINING_RATIO = 0.85\n",
    "VALID_RATIO = 0.2\n",
    "EPS = 1e-2\n",
    "VERBOSE = 1\n",
    "############################################################\n",
    "\n",
    "# all dataset meta-data specify\n",
    "default_options = MyObject()\n",
    "default_options.root_dir = '/home/leondong/proj/robust/dataset/'\n",
    "default_options.down_sample = False\n",
    "default_options.with_label = False\n",
    "default_options.num_per_class = 1000\n",
    "default_options.normalize = True\n",
    "default_options.transform = None\n",
    "\n",
    "dataset_names = [('mnist', 'mnist/'), ('airquality','airquality/AirQualityUCI.csv'), \n",
    "                 ('parkinson', 'parkinson/parkinsons_updrs.data'),\n",
    "                ('energy','energy/data.csv'), ('hepmass','hepmass/hepmass.h5'),\n",
    "                ('miniboone', 'miniboone/miniboone.h5'), \n",
    "                 ('onlinenews','onlinenews/OnlineNewsPopularity.csv'),\n",
    "                ('superconduct','superconduct/data.csv'),\n",
    "                ('sdd', 'SDD/Sensorless_drive_diagnosis.txt')]\n",
    "\n",
    "loader_options = MyObject()\n",
    "for name, path in dataset_names: \n",
    "    l_op = deepcopy(default_options)\n",
    "    l_op.data_path = path\n",
    "    loader_options[name] = l_op\n",
    "\n",
    "# custom field for some dataset\n",
    "loader_options.mnist.transform = './output/vae-mnist-e250-d20.pkl'\n",
    "    "
   ]
  },
  {
   "cell_type": "code",
   "execution_count": 9,
   "id": "0314f1b8",
   "metadata": {
    "execution": {
     "iopub.execute_input": "2024-02-04T05:04:53.944331Z",
     "iopub.status.busy": "2024-02-04T05:04:53.944130Z",
     "iopub.status.idle": "2024-02-04T05:04:54.095731Z",
     "shell.execute_reply": "2024-02-04T05:04:54.095042Z",
     "shell.execute_reply.started": "2024-02-04T05:04:53.944313Z"
    }
   },
   "outputs": [
    {
     "name": "stdout",
     "output_type": "stream",
     "text": [
      "Loading parkinson data .....\n",
      "parkinson load complete!\n"
     ]
    }
   ],
   "source": [
    "import importlib\n",
    "from sklearn.preprocessing import StandardScaler\n",
    "# load the given dataset\n",
    "cur_options = loader_options[data_name]\n",
    "loader_module = importlib.import_module('loaders.{}'.format(data_name))\n",
    "dataset = loader_module.load_data(cur_options)\n",
    "\n",
    "# train, test split\n",
    "if len(dataset) == 2:\n",
    "    train, test = dataset\n",
    "else:\n",
    "    np.random.shuffle(dataset)\n",
    "    n_train = int(dataset.shape[0] * TRAINING_RATIO)\n",
    "    train = dataset[: n_train]\n",
    "    test = dataset[n_train:]\n",
    "\n",
    "# convert to float32 type\n",
    "train = train.astype('f4')\n",
    "test = test.astype('f4')\n",
    "\n",
    "# handle test case \n",
    "if testing:\n",
    "    train = train[:1000]\n",
    "    test = test[:100]\n",
    "\n",
    "if cur_options.transform is None:\n",
    "    # do standardize\n",
    "    scaler = StandardScaler().fit(train)\n",
    "    train, test = [scaler.transform(x) for x in [train,test]]\n",
    "      \n",
    "# shuffle the train split\n",
    "assert(len(train.shape) == 2), \"Data size does not match\"\n",
    "np.random.shuffle(train)\n",
    "    \n",
    "# train, valid split\n",
    "n_valid = int(train.shape[0] * VALID_RATIO)\n",
    "valid = train[:n_valid]\n",
    "train = train[n_valid:]\n",
    "\n",
    "# random messup the test\n",
    "test_gaussian = gaussian_noise(test, 1, G_value_scale)\n",
    "test_pj = pixel_jitter(test, 0.25, -G_value_scale, G_value_scale)\n",
    "\n",
    "# conduct transformation \n",
    "if cur_options.transform is not None:\n",
    "    model = utils.pkload(cur_options.transform)\n",
    "    model.model.to('cpu')\n",
    "    model.device = 'cpu'\n",
    "    train,valid,test,test_gaussian,test_pj = [model.transform(data) \n",
    "                             for data in [train,valid,test,test_gaussian,test_pj]]\n",
    "    \n",
    "\n",
    "# wrap up the dataset together\n",
    "dataset = MyObject()\n",
    "dataset.train = train\n",
    "dataset.valid = valid\n",
    "# dataset.valid = np.vstack([valid, gaussian_noise(valid, 1, G_value_scale)])\n",
    "dataset.test = [test, test_gaussian, test_pj]\n",
    "\n",
    "logger.write(f'{data_name} load complete!')"
   ]
  },
  {
   "cell_type": "markdown",
   "id": "213d80b8-5ae7-46fe-81a5-810b55b6797f",
   "metadata": {},
   "source": [
    "# Main"
   ]
  },
  {
   "cell_type": "code",
   "execution_count": 10,
   "id": "d6b1f92a",
   "metadata": {
    "execution": {
     "iopub.execute_input": "2024-02-04T05:04:54.096677Z",
     "iopub.status.busy": "2024-02-04T05:04:54.096485Z",
     "iopub.status.idle": "2024-02-04T05:04:54.100766Z",
     "shell.execute_reply": "2024-02-04T05:04:54.100156Z",
     "shell.execute_reply.started": "2024-02-04T05:04:54.096660Z"
    }
   },
   "outputs": [],
   "source": [
    "train_conf = MyObject()\n",
    "train_conf.final_iter = 75\n",
    "train_conf.update_iter = 25\n",
    "train_conf.n_step = 150\n",
    "train_conf.delta = float(G_delta)\n",
    "train_conf.n_comp = 3\n",
    "\n",
    "if testing:\n",
    "    train_conf.n_iter = 10"
   ]
  },
  {
   "cell_type": "raw",
   "id": "fa9cb1e6-7b78-48ba-beec-8ecc7cceafd1",
   "metadata": {
    "execution": {
     "iopub.execute_input": "2024-02-03T20:32:08.964067Z",
     "iopub.status.busy": "2024-02-03T20:32:08.963402Z",
     "iopub.status.idle": "2024-02-03T20:32:10.799961Z",
     "shell.execute_reply": "2024-02-03T20:32:10.799221Z",
     "shell.execute_reply.started": "2024-02-03T20:32:08.964017Z"
    }
   },
   "source": [
    "R = np.ones( dataset.train.shape[0] )\n",
    "# normal gaussain\n",
    "model = fit_weighted_mg(dataset.train, R)\n",
    "evaluate(model, dataset)\n",
    "\n",
    "# adv gaussian\n",
    "best = (-1e50, None)\n",
    "for _ in range(train_conf.n_step):\n",
    "    masses = model.mass(dataset.train, logmode = True)\n",
    "    R = adversial_step(masses, train_conf.delta)\n",
    "    model = fit_weighted_mg(dataset.train, R)\n",
    "    score = model.mass(dataset.valid, logmode = True).mean()\n",
    "    best = ( score, deepcopy(model) ) if score > best[0] else best\n",
    "\n",
    "evaluate(best[1], dataset)"
   ]
  },
  {
   "cell_type": "raw",
   "id": "06072cc2-ca30-4426-8716-2a037960d643",
   "metadata": {
    "execution": {
     "iopub.execute_input": "2024-02-03T21:17:52.289310Z",
     "iopub.status.busy": "2024-02-03T21:17:52.288649Z",
     "iopub.status.idle": "2024-02-03T21:18:11.462626Z",
     "shell.execute_reply": "2024-02-03T21:18:11.461911Z",
     "shell.execute_reply.started": "2024-02-03T21:17:52.289258Z"
    }
   },
   "source": [
    "R = np.ones( dataset.train.shape[0] )\n",
    "# normal mixmg\n",
    "learner =  MixMGLearner(max_iter = train_conf.final_iter + train_conf.update_iter, \n",
    "                        n_components = train_conf.n_comp,\n",
    "                        reg_covar = 1e-4).fit(dataset.train)\n",
    "evaluate(learner.get_model(), dataset)\n",
    "\n",
    "# adv mixmg\n",
    "best = (-1e50, None)\n",
    "for i in range(train_conf.n_step):\n",
    "    masses = learner.get_model().mass(dataset.train, logmode = True)\n",
    "    R = adversial_step(masses, train_conf.delta)\n",
    "    cur_iter = train_conf.update_iter + ( train_conf.final_iter if i+1 == train_conf.n_step else 0 )\n",
    "    for _ in range( cur_iter ):\n",
    "        learner._estep()\n",
    "        learner._mstep(dataset.train, R)\n",
    "    score = learner.get_model().mass(dataset.valid, logmode = True).mean()\n",
    "    best = ( score, deepcopy(learner) ) if score > best[0] else best\n",
    "evaluate(best[1].get_model(), dataset)"
   ]
  },
  {
   "cell_type": "code",
   "execution_count": 11,
   "id": "46e6f6ab-38c9-4d43-93b9-fa99efbc67fd",
   "metadata": {
    "execution": {
     "iopub.execute_input": "2024-02-04T05:04:54.101598Z",
     "iopub.status.busy": "2024-02-04T05:04:54.101422Z",
     "iopub.status.idle": "2024-02-04T05:08:15.105209Z",
     "shell.execute_reply": "2024-02-04T05:08:15.104501Z",
     "shell.execute_reply.started": "2024-02-04T05:04:54.101582Z"
    }
   },
   "outputs": [
    {
     "name": "stdout",
     "output_type": "stream",
     "text": [
      "working on 2 ....\n"
     ]
    },
    {
     "name": "stderr",
     "output_type": "stream",
     "text": [
      "/tmp/ipykernel_23587/1962198292.py:17: RuntimeWarning: overflow encountered in power\n",
      "  return np.log(np.power(w,w)).sum() <= M\n"
     ]
    },
    {
     "name": "stdout",
     "output_type": "stream",
     "text": [
      "working on 3 ....\n"
     ]
    },
    {
     "name": "stderr",
     "output_type": "stream",
     "text": [
      "/tmp/ipykernel_23587/1962198292.py:17: RuntimeWarning: overflow encountered in power\n",
      "  return np.log(np.power(w,w)).sum() <= M\n"
     ]
    },
    {
     "name": "stdout",
     "output_type": "stream",
     "text": [
      "working on 4 ....\n"
     ]
    },
    {
     "name": "stderr",
     "output_type": "stream",
     "text": [
      "/tmp/ipykernel_23587/1962198292.py:17: RuntimeWarning: overflow encountered in power\n",
      "  return np.log(np.power(w,w)).sum() <= M\n"
     ]
    },
    {
     "name": "stdout",
     "output_type": "stream",
     "text": [
      "working on 5 ....\n"
     ]
    },
    {
     "name": "stderr",
     "output_type": "stream",
     "text": [
      "/tmp/ipykernel_23587/1962198292.py:17: RuntimeWarning: overflow encountered in power\n",
      "  return np.log(np.power(w,w)).sum() <= M\n"
     ]
    },
    {
     "name": "stdout",
     "output_type": "stream",
     "text": [
      "working on 6 ....\n",
      "working on 7 ....\n"
     ]
    },
    {
     "name": "stderr",
     "output_type": "stream",
     "text": [
      "/tmp/ipykernel_23587/1962198292.py:17: RuntimeWarning: overflow encountered in power\n",
      "  return np.log(np.power(w,w)).sum() <= M\n"
     ]
    },
    {
     "name": "stdout",
     "output_type": "stream",
     "text": [
      "working on 8 ....\n"
     ]
    },
    {
     "name": "stderr",
     "output_type": "stream",
     "text": [
      "/tmp/ipykernel_23587/1962198292.py:17: RuntimeWarning: overflow encountered in power\n",
      "  return np.log(np.power(w,w)).sum() <= M\n"
     ]
    },
    {
     "name": "stdout",
     "output_type": "stream",
     "text": [
      "working on 9 ....\n"
     ]
    },
    {
     "name": "stderr",
     "output_type": "stream",
     "text": [
      "/tmp/ipykernel_23587/1962198292.py:17: RuntimeWarning: overflow encountered in power\n",
      "  return np.log(np.power(w,w)).sum() <= M\n"
     ]
    },
    {
     "name": "stdout",
     "output_type": "stream",
     "text": [
      "uncorrupted          p25:-6.4046 median:-2.1184 p75:0.9453 Mean:-3.8103 Std:11.1338\n",
      "Gaussian-Noise       p25:-19.1105 median:-15.2832 p75:-11.8463 Mean:-16.1342 Std:9.8582\n",
      "Random-jitter        p25:-23.3147 median:-14.8339 p75:-8.2782 Mean:-20.4697 Std:33.9389\n",
      "Worst NB LL          p25:-22.504 median:-19.6241 p75:-17.2737 Mean:-21.2031 Std:13.2773\n",
      "Avg NB LL            p25:-11.7273 median:-9.0438 p75:-7.4841 Mean:-10.5703 Std:9.9372\n",
      "--------------------------------------------------\n",
      "uncorrupted          p25:-7.9398 median:-5.0228 p75:-1.9355 Mean:-5.4674 Std:7.1436\n",
      "Gaussian-Noise       p25:-17.312 median:-13.1382 p75:-10.068 Mean:-14.299 Std:5.916\n",
      "Random-jitter        p25:-23.3448 median:-12.8353 p75:-7.6644 Mean:-15.8827 Std:10.7533\n",
      "Worst NB LL          p25:-21.1918 median:-17.6062 p75:-15.3712 Mean:-18.8252 Std:4.6656\n",
      "Avg NB LL            p25:-11.0902 median:-8.6016 p75:-7.0249 Mean:-10.0709 Std:5.0567\n"
     ]
    }
   ],
   "source": [
    "# auto determine the number of components from 2-10\n",
    "std_best = (-1e50, None)\n",
    "adv_best = (-1e50, None)\n",
    "\n",
    "for n_comp in range(3, 10):\n",
    "    print(f'working on {n_comp} ....')\n",
    "    R = np.ones( dataset.train.shape[0] )\n",
    "    # normal mixmg\n",
    "    learner =  MixMGLearner(max_iter = train_conf.final_iter + train_conf.update_iter, \n",
    "                            n_components = n_comp,\n",
    "                            reg_covar = 1e-4).fit(dataset.train)\n",
    "    score = learner.get_model().mass(dataset.valid, logmode = True).mean()\n",
    "    std_best = ( score, deepcopy(learner) ) if score > std_best[0] else std_best\n",
    "    \n",
    "    # adv mixmg\n",
    "    for i in range(train_conf.n_step):\n",
    "        masses = learner.get_model().mass(dataset.train, logmode = True)\n",
    "        R = adversial_step(masses, train_conf.delta)\n",
    "        cur_iter = train_conf.update_iter + ( train_conf.final_iter if i+1 == train_conf.n_step else 0 )\n",
    "        for _ in range( cur_iter ):\n",
    "            learner._estep()\n",
    "            learner._mstep(dataset.train, R)\n",
    "        score = learner.get_model().mass(dataset.valid, logmode = True).mean()\n",
    "        adv_best = ( score, deepcopy(learner) ) if score > adv_best[0] else adv_best\n",
    "\n",
    "evaluate(std_best[1].get_model(), dataset)\n",
    "print('-' * 50)\n",
    "evaluate(adv_best[1].get_model(), dataset)"
   ]
  },
  {
   "cell_type": "code",
   "execution_count": null,
   "id": "936df9ff",
   "metadata": {},
   "outputs": [],
   "source": []
  },
  {
   "cell_type": "code",
   "execution_count": null,
   "id": "90d214c7-f489-4178-9adf-192b132aa61b",
   "metadata": {},
   "outputs": [],
   "source": []
  },
  {
   "cell_type": "code",
   "execution_count": null,
   "id": "ef8ee537-8feb-42f1-9555-4454e44a7109",
   "metadata": {},
   "outputs": [],
   "source": []
  },
  {
   "cell_type": "code",
   "execution_count": null,
   "id": "9abfbd98-d6c2-4201-adbf-66aa0429ce65",
   "metadata": {},
   "outputs": [],
   "source": []
  },
  {
   "cell_type": "code",
   "execution_count": null,
   "id": "6a9c51e7-ddbe-4c6a-ae44-b1a9e0ad9adb",
   "metadata": {},
   "outputs": [],
   "source": []
  }
 ],
 "metadata": {
  "kernelspec": {
   "display_name": "Python 3 (ipykernel)",
   "language": "python",
   "name": "python3"
  },
  "language_info": {
   "codemirror_mode": {
    "name": "ipython",
    "version": 3
   },
   "file_extension": ".py",
   "mimetype": "text/x-python",
   "name": "python",
   "nbconvert_exporter": "python",
   "pygments_lexer": "ipython3",
   "version": "3.8.13"
  }
 },
 "nbformat": 4,
 "nbformat_minor": 5
}
